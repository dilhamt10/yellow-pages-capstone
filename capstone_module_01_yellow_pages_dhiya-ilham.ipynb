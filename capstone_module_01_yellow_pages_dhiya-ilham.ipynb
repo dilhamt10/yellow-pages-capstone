{
  "cells": [
    {
      "cell_type": "markdown",
      "source": [
        "## Yellow Pages Capstone\n",
        "### by Dhiya Ilham - JCDSOL-19-04"
      ],
      "metadata": {
        "id": "yhjUyv0_-iHB"
      }
    },
    {
      "cell_type": "markdown",
      "source": [
        "### Import Data & Create Initial Database (CREATE)"
      ],
      "metadata": {
        "id": "u7Ooaz8u-vty"
      }
    },
    {
      "cell_type": "code",
      "source": [
        "import pandas as pd"
      ],
      "metadata": {
        "id": "ftOBH2oe-rmy"
      },
      "execution_count": null,
      "outputs": []
    },
    {
      "cell_type": "code",
      "source": [
        "# CREATE - Initiate database\n",
        "yellow_pages = {\n",
        "    \"Name\": [\"Papaya Fresh Gallery - Blok M\", \"Ayam Renald Blok M\"\n",
        "      , \"Filosofi Kopi Melawai\"],\n",
        "    \"Category\": [\"Supermarket\", \"Restaurant\", \"Cafe\"],\n",
        "    \"Address\": [\"Jl. Melawai Raya No.28\", \"Blk. M Square, Jl. Melawai Raya\"\n",
        "      , \"Kawasan Terpadu Blok M Square, Jl. Melawai 6 No.1\"],\n",
        "    \"Postal Code\": [\"12160\", \"12160\", \"12160\"],\n",
        "    \"Tel. Number\": [\"02172793777\", \"081298905401\", \"08170737125\"],\n",
        "    \"Updated at\": [None, None, None],  # column for tracking updates\n",
        "}\n",
        "\n",
        "# Create DataFrame\n",
        "df = pd.DataFrame(yellow_pages)\n",
        "\n",
        "# Create the index (make it real-world, i.e. start from 1)\n",
        "df.index = [1, 2, 3]\n",
        "\n",
        "print(df)"
      ],
      "metadata": {
        "id": "jTAVdKgD-3xQ",
        "outputId": "e72443f6-c188-4a07-a645-c95668558039",
        "colab": {
          "base_uri": "https://localhost:8080/"
        }
      },
      "execution_count": null,
      "outputs": [
        {
          "output_type": "stream",
          "name": "stdout",
          "text": [
            "                            Name     Category  \\\n",
            "1  Papaya Fresh Gallery - Blok M  Supermarket   \n",
            "2             Ayam Renald Blok M   Restaurant   \n",
            "3          Filosofi Kopi Melawai         Cafe   \n",
            "\n",
            "                                             Address Postal Code  \\\n",
            "1                             Jl. Melawai Raya No.28       12160   \n",
            "2                    Blk. M Square, Jl. Melawai Raya       12160   \n",
            "3  Kawasan Terpadu Blok M Square, Jl. Melawai 6 No.1       12160   \n",
            "\n",
            "    Tel. Number Updated at  \n",
            "1   02172793777       None  \n",
            "2  081298905401       None  \n",
            "3   08170737125       None  \n"
          ]
        }
      ]
    },
    {
      "cell_type": "code",
      "source": [
        "# MENU LIST\n",
        "\n",
        "def daftar_yp():\n",
        "    print(\"\\nMenu List:\")\n",
        "    print(\"1. Display the Yellow Pages\") #READ\n",
        "    print(\"2. Append the Yellow Pages\") #CREATE\n",
        "    print(\"3. Delete list of Yellow Pages\") #mention the index #DELETE\n",
        "    print(\"4. Update list of Yellow Pages\") #mention the index #UPDATE\n",
        "    print(\"5. Exit program\")\n",
        "\n",
        "def input_daftar():\n",
        "    try:\n",
        "        pilihan = int(input(\"Please input the menu list number you want to run: \"))\n",
        "        return pilihan\n",
        "    except ValueError:\n",
        "        print(\"Enter a valid number.\")\n",
        "        return None"
      ],
      "metadata": {
        "id": "n2DDJj1F-7W9"
      },
      "execution_count": null,
      "outputs": []
    },
    {
      "cell_type": "markdown",
      "source": [
        "### 1) Display the Yellow Pages (READ)"
      ],
      "metadata": {
        "id": "y9IjV_GlAC25"
      }
    },
    {
      "cell_type": "code",
      "source": [
        "def menampilkan_daftar_yellowpages():\n",
        "    global df\n",
        "\n",
        "print(\"\\nWelcome to the Yellow Pages\")\n",
        "print(\"List of the Yellow Pages:\\n\")\n",
        "print(df) #Update the latest list of yellow pages"
      ],
      "metadata": {
        "id": "ptPv2lqz_86R",
        "outputId": "7057036d-58b9-4b07-ffc5-f802ed35c811",
        "colab": {
          "base_uri": "https://localhost:8080/"
        }
      },
      "execution_count": null,
      "outputs": [
        {
          "output_type": "stream",
          "name": "stdout",
          "text": [
            "\n",
            "Welcome to the Yellow Pages\n",
            "List of the Yellow Pages:\n",
            "\n",
            "                            Name     Category  \\\n",
            "1  Papaya Fresh Gallery - Blok M  Supermarket   \n",
            "2             Ayam Renald Blok M   Restaurant   \n",
            "3          Filosofi Kopi Melawai         Cafe   \n",
            "\n",
            "                                             Address Postal Code  \\\n",
            "1                             Jl. Melawai Raya No.28       12160   \n",
            "2                    Blk. M Square, Jl. Melawai Raya       12160   \n",
            "3  Kawasan Terpadu Blok M Square, Jl. Melawai 6 No.1       12160   \n",
            "\n",
            "    Tel. Number Updated at  \n",
            "1   02172793777       None  \n",
            "2  081298905401       None  \n",
            "3   08170737125       None  \n"
          ]
        }
      ]
    },
    {
      "cell_type": "markdown",
      "source": [
        "### 2) Append the Yellow Pages (CREATE)"
      ],
      "metadata": {
        "id": "9ekiKBQGAKci"
      }
    },
    {
      "cell_type": "code",
      "source": [
        "from datetime import datetime\n",
        "\n",
        "# Function to append data to a new index\n",
        "def menambah_daftar_yellowpages():\n",
        "    global df\n",
        "\n",
        "    # Get user inputs for all fields\n",
        "    name = input(\"Please input Name of place: \")\n",
        "    category = input(\"Please input Category of the place: \")\n",
        "    address = input(\"Please the location Address: \")\n",
        "    postalCode = input(\"Please the Postal Code: \")\n",
        "    telNumber = input(\"Please input the Telephone Number: \")\n",
        "\n",
        "    # Assign inputs to a new index\n",
        "    new_index = len(df) + 1  #  Automatically assign the new index as the next available index,\n",
        "                             #  because the initial index starts from 1.\n",
        "    df.at[new_index, \"Name\"] = name\n",
        "    df.at[new_index, \"Category\"] = category\n",
        "    df.at[new_index, \"Address\"] = address\n",
        "    df.at[new_index, \"Postal Code\"] = postalCode\n",
        "    df.at[new_index, \"Tel. Number\"] = telNumber\n",
        "\n",
        "    # Update the 'Updated at' column with the current timestamp\n",
        "    df.at[new_index, \"Updated at\"] = datetime.now().strftime(\"%Y-%m-%d %H:%M:%S\")\n",
        "\n",
        "    print(f\"\\nPlace with Name \\\"{name}\\\" successfully added to index {new_index}.\")\n",
        "\n",
        "# Run the function to add a new record\n",
        "menambah_daftar_yellowpages()\n",
        "\n",
        "# Display the updated DataFrame\n",
        "print(df)"
      ],
      "metadata": {
        "id": "-Gygp5fCAIJo",
        "outputId": "47535119-dd54-4220-bf95-a1e5e53dc80a",
        "colab": {
          "base_uri": "https://localhost:8080/"
        }
      },
      "execution_count": null,
      "outputs": [
        {
          "output_type": "stream",
          "name": "stdout",
          "text": [
            "Please input Name of place: y\n",
            "Please input Category of the place: y\n",
            "Please the location Address: y\n",
            "Please the Postal Code: y\n",
            "Please input the Telephone Number: y\n",
            "\n",
            "Place with Name \"y\" successfully added to index 4.\n",
            "                            Name     Category  \\\n",
            "1  Papaya Fresh Gallery - Blok M  Supermarket   \n",
            "2             Ayam Renald Blok M   Restaurant   \n",
            "3          Filosofi Kopi Melawai         Cafe   \n",
            "4                              y            y   \n",
            "\n",
            "                                             Address Postal Code  \\\n",
            "1                             Jl. Melawai Raya No.28       12160   \n",
            "2                    Blk. M Square, Jl. Melawai Raya       12160   \n",
            "3  Kawasan Terpadu Blok M Square, Jl. Melawai 6 No.1       12160   \n",
            "4                                                  y           y   \n",
            "\n",
            "    Tel. Number           Updated at  \n",
            "1   02172793777                 None  \n",
            "2  081298905401                 None  \n",
            "3   08170737125                 None  \n",
            "4             y  2025-03-26 05:29:07  \n"
          ]
        }
      ]
    },
    {
      "cell_type": "markdown",
      "source": [
        "### 3) Delete list of Yellow Pages (DELETE)"
      ],
      "metadata": {
        "id": "h29Ya9j1ARRm"
      }
    },
    {
      "cell_type": "code",
      "source": [
        "def menghapus_daftar_yellowpages():\n",
        "    global df\n",
        "    print(\"\\n\", df)\n",
        "\n",
        "    try:\n",
        "        index = int(input(\"\\nEnter the index of the Place you want to delete: \"))\n",
        "        if index in df.index:\n",
        "            df.drop(index, inplace=True)  # Delete the index of the Place\n",
        "            print(f\"\\nThe place at index {index} was successfully deleted.\\n\")\n",
        "        else:\n",
        "            print(\"Index not found.\")\n",
        "    except ValueError:\n",
        "        print(\"Enter a valid index (number).\")\n",
        "\n",
        "menghapus_daftar_yellowpages()\n",
        "print(df)"
      ],
      "metadata": {
        "id": "6aLfJFZhAO1T",
        "outputId": "9e50618f-6356-46cf-bd1a-acb40fe28ce4",
        "colab": {
          "base_uri": "https://localhost:8080/"
        }
      },
      "execution_count": null,
      "outputs": [
        {
          "output_type": "stream",
          "name": "stdout",
          "text": [
            "\n",
            "                             Name     Category  \\\n",
            "1  Papaya Fresh Gallery - Blok M  Supermarket   \n",
            "2             Ayam Renald Blok M   Restaurant   \n",
            "3          Filosofi Kopi Melawai         Cafe   \n",
            "4                              y            y   \n",
            "\n",
            "                                             Address Postal Code  \\\n",
            "1                             Jl. Melawai Raya No.28       12160   \n",
            "2                    Blk. M Square, Jl. Melawai Raya       12160   \n",
            "3  Kawasan Terpadu Blok M Square, Jl. Melawai 6 No.1       12160   \n",
            "4                                                  y           y   \n",
            "\n",
            "    Tel. Number           Updated at  \n",
            "1   02172793777                 None  \n",
            "2  081298905401                 None  \n",
            "3   08170737125                 None  \n",
            "4             y  2025-03-26 05:28:36  \n",
            "\n",
            "Enter the index of the Place you want to delete: 4\n",
            "\n",
            "The place at index 4 was successfully deleted.\n",
            "\n",
            "                            Name     Category  \\\n",
            "1  Papaya Fresh Gallery - Blok M  Supermarket   \n",
            "2             Ayam Renald Blok M   Restaurant   \n",
            "3          Filosofi Kopi Melawai         Cafe   \n",
            "\n",
            "                                             Address Postal Code  \\\n",
            "1                             Jl. Melawai Raya No.28       12160   \n",
            "2                    Blk. M Square, Jl. Melawai Raya       12160   \n",
            "3  Kawasan Terpadu Blok M Square, Jl. Melawai 6 No.1       12160   \n",
            "\n",
            "    Tel. Number Updated at  \n",
            "1   02172793777       None  \n",
            "2  081298905401       None  \n",
            "3   08170737125       None  \n"
          ]
        }
      ]
    },
    {
      "cell_type": "markdown",
      "source": [
        "### 4) Update list of Yellow Pages (UPDATE)"
      ],
      "metadata": {
        "id": "47bBIqWGAW26"
      }
    },
    {
      "cell_type": "code",
      "source": [
        "from datetime import datetime\n",
        "\n",
        "# Function to update a record in the DataFrame by index\n",
        "def update_daftar_yellowpages(df):\n",
        "    print(\"\\n\", df)\n",
        "\n",
        "    # Ask the user for the index they want to update\n",
        "    try:\n",
        "        index = int(input(\"Enter the index of the record you want to update: \"))\n",
        "        if index < 1 or index >= len(df) + 1:\n",
        "            print(\"Invalid index!\")\n",
        "            return df\n",
        "    except ValueError:\n",
        "        print(\"Index must be an integer!\")\n",
        "        return df\n",
        "\n",
        "    edited_fields = []  # To track which fields were edited\n",
        "\n",
        "    old_name = df.at[index, \"Name\"]\n",
        "    new_name = input(f\"Current Name: \\\"{old_name}\\\". \\nEnter new Name or 'N' to skip: \")\n",
        "    if new_name.lower() != 'n':\n",
        "        df.at[index, \"Name\"] = new_name\n",
        "        edited_fields.append(f\"\\nName \\t\\t: \\\"{old_name}\\\" to \\\"{new_name}\\\"\")\n",
        "\n",
        "    old_category = df.at[index, \"Category\"]\n",
        "    new_category = input(f\"Current Category: \\\"{old_category}\\\". \\nEnter new Category or 'N' to skip: \")\n",
        "    if new_category.lower() != 'n':\n",
        "        df.at[index, \"Category\"] = new_category\n",
        "        edited_fields.append(f\"\\nCategory \\t: \\\"{old_category}\\\" to \\\"{new_category}\\\"\")\n",
        "\n",
        "    old_address = df.at[index, \"Address\"]\n",
        "    new_address = input(f\"Current Address: \\\"{old_address}\\\". \\nEnter new Address or 'N' to skip: \")\n",
        "    if new_address.lower() != 'n':\n",
        "        df.at[index, \"Address\"] = new_address\n",
        "        edited_fields.append(f\"\\nAddress \\t: \\\"{old_address}\\\" to \\\"{new_address}\\\"\")\n",
        "\n",
        "    old_postal_code = df.at[index, \"Postal Code\"]\n",
        "    new_postal_code = input(f\"Current Postal Code: \\\"{old_postal_code}\\\". \\nEnter new Postal Code or 'N' to skip: \")\n",
        "    if new_postal_code.lower() != 'n':\n",
        "        df.at[index, \"Postal Code\"] = new_postal_code\n",
        "        edited_fields.append(f\"\\nPostal Code \\t: \\\"{old_postal_code}\\\" to \\\"{new_postal_code}\\\"\")\n",
        "\n",
        "    old_tel_number = df.at[index, \"Tel. Number\"]\n",
        "    new_tel_number = input(f\"Current Tel. Number: \\\"{old_tel_number}\\\". \\nEnter new Tel Number or 'N' to skip: \")\n",
        "    if new_tel_number.lower() != 'n':\n",
        "        df.at[index, \"Tel. Number\"] = new_tel_number\n",
        "        edited_fields.append(f\"\\nTel. Number \\t: \\\"{old_tel_number}\\\" to \\\"{new_tel_number}\\\"\")\n",
        "\n",
        "    # Update the 'Updated_at' field if any fields were edited\n",
        "    if edited_fields:\n",
        "        df.at[index, 'Updated at'] = datetime.now().strftime(\"%Y-%m-%d %H:%M:%S\")\n",
        "        print(\"\\nUpdate completed!\")\n",
        "        print(f\"\\nFields updated: {' '.join(edited_fields)}\")\n",
        "\n",
        "    return df\n",
        "\n",
        "df = update_daftar_yellowpages(df)\n",
        "print(\"\\nUpdated Data:\")\n",
        "print(df)"
      ],
      "metadata": {
        "id": "mcEG5m0NAVhU",
        "outputId": "6ddf5dbc-5b78-4491-c431-980aa9802b3d",
        "colab": {
          "base_uri": "https://localhost:8080/"
        }
      },
      "execution_count": null,
      "outputs": [
        {
          "output_type": "stream",
          "name": "stdout",
          "text": [
            "\n",
            "                             Name     Category  \\\n",
            "1  Papaya Fresh Gallery - Blok M  Supermarket   \n",
            "2             Ayam Renald Blok M   Restaurant   \n",
            "3          Filosofi Kopi Melawai         Cafe   \n",
            "4                              y            y   \n",
            "\n",
            "                                             Address Postal Code  \\\n",
            "1                             Jl. Melawai Raya No.28       12160   \n",
            "2                    Blk. M Square, Jl. Melawai Raya       12160   \n",
            "3  Kawasan Terpadu Blok M Square, Jl. Melawai 6 No.1       12160   \n",
            "4                                                  y           y   \n",
            "\n",
            "    Tel. Number           Updated at  \n",
            "1   02172793777                 None  \n",
            "2  081298905401                 None  \n",
            "3   08170737125                 None  \n",
            "4             y  2025-03-26 05:29:07  \n",
            "Enter the index of the record you want to update: 4\n",
            "Current Name: \"y\". \n",
            "Enter new Name or 'N' to skip: z\n",
            "Current Category: \"y\". \n",
            "Enter new Category or 'N' to skip: n\n",
            "Current Address: \"y\". \n",
            "Enter new Address or 'N' to skip: n\n",
            "Current Postal Code: \"y\". \n",
            "Enter new Postal Code or 'N' to skip: n\n",
            "Current Tel. Number: \"y\". \n",
            "Enter new Tel Number or 'N' to skip: n\n",
            "\n",
            "Update completed!\n",
            "\n",
            "Fields updated: \n",
            "Name \t\t: \"y\" to \"z\"\n",
            "\n",
            "Updated Data:\n",
            "                            Name     Category  \\\n",
            "1  Papaya Fresh Gallery - Blok M  Supermarket   \n",
            "2             Ayam Renald Blok M   Restaurant   \n",
            "3          Filosofi Kopi Melawai         Cafe   \n",
            "4                              z            y   \n",
            "\n",
            "                                             Address Postal Code  \\\n",
            "1                             Jl. Melawai Raya No.28       12160   \n",
            "2                    Blk. M Square, Jl. Melawai Raya       12160   \n",
            "3  Kawasan Terpadu Blok M Square, Jl. Melawai 6 No.1       12160   \n",
            "4                                                  y           y   \n",
            "\n",
            "    Tel. Number           Updated at  \n",
            "1   02172793777                 None  \n",
            "2  081298905401                 None  \n",
            "3   08170737125                 None  \n",
            "4             y  2025-03-26 05:36:03  \n"
          ]
        }
      ]
    },
    {
      "cell_type": "markdown",
      "source": [
        "### 5) Exit program"
      ],
      "metadata": {
        "id": "zZdIpNl9Aa_-"
      }
    },
    {
      "cell_type": "code",
      "source": [
        "while True:\n",
        "    daftar_yp()\n",
        "    pilihan = input_daftar()\n",
        "\n",
        "    if pilihan == 1:\n",
        "        menampilkan_daftar_yellowpages()\n",
        "        print(\"\\nWelcome to the Yellow Pages\")\n",
        "        print(\"List of the Yellow Pages:\\n\")\n",
        "        print(df) #Update list of the latest yellow pages\n",
        "    elif pilihan == 2:\n",
        "        menambah_daftar_yellowpages()\n",
        "        print(df)\n",
        "    elif pilihan == 3:\n",
        "        menghapus_daftar_yellowpages()\n",
        "        print(df)\n",
        "    elif pilihan == 4:\n",
        "        df = update_daftar_yellowpages(df)\n",
        "        print(\"\\nUpdated Data:\")\n",
        "        print(df)\n",
        "    elif pilihan == 5:\n",
        "        print(\"\\nThank you for visiting the Yellow Pages.\")\n",
        "        break\n",
        "    else:\n",
        "        print(\"Invalid selection. Please try again.\")"
      ],
      "metadata": {
        "id": "dEj60WipAbv0",
        "outputId": "544e3bfd-f1f4-4746-e0d3-bfd43a43247b",
        "colab": {
          "base_uri": "https://localhost:8080/"
        }
      },
      "execution_count": null,
      "outputs": [
        {
          "output_type": "stream",
          "name": "stdout",
          "text": [
            "\n",
            "Menu List:\n",
            "1. Display the Yellow Pages\n",
            "2. Append the Yellow Pages\n",
            "3. Delete list of Yellow Pages\n",
            "4. Update list of Yellow Pages\n",
            "5. Exit program\n",
            "Please input the menu list number you want to run: 5\n",
            "\n",
            "Thank you for visiting the Yellow Pages.\n"
          ]
        }
      ]
    }
  ],
  "metadata": {
    "colab": {
      "provenance": [],
      "toc_visible": true
    },
    "kernelspec": {
      "display_name": "Python 3",
      "name": "python3"
    }
  },
  "nbformat": 4,
  "nbformat_minor": 0
}